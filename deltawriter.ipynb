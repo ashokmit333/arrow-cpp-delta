{
 "cells": [
  {
   "cell_type": "code",
   "execution_count": 15,
   "metadata": {},
   "outputs": [],
   "source": [
    "import pyarrow.parquet as pq\n",
    "from deltalake.writer import write_deltalake\n",
    "df = pq.read_table(\"/Users/ashsubr/Code/MF4PayloadConversionSignalLogging/mf4cppout/trail1/channelStats.parquet\")\n",
    "storage_options = {\"SAS_TOKEN\": f\"sv=2022-11-02&ss=bfqt&srt=sco&sp=rwdlacupyx&se=2025-07-19T23:00:05Z&st=2024-07-19T15:00:05Z&spr=https&sig=YOsyJOKRG4f8sYf7X4gkUXzRTAxBwbMk62Z4NCofJh4%3D\"}\n",
    "# write_deltalake(\n",
    "#         \"abfss://data@mbmdpedx2e.dfs.core.windows.net/deltaoutput/delapartitioned\",\n",
    "#         df,\n",
    "#         mode=\"append\",\n",
    "#         storage_options=storage_options,\n",
    "#         partition_by=['channelName']\n",
    "#     )\n",
    "\n",
    "write_deltalake(\n",
    "        \"abc\",\n",
    "        df,\n",
    "        mode=\"append\"\n",
    "    )"
   ]
  },
  {
   "cell_type": "code",
   "execution_count": null,
   "metadata": {},
   "outputs": [],
   "source": []
  }
 ],
 "metadata": {
  "kernelspec": {
   "display_name": ".venv",
   "language": "python",
   "name": "python3"
  },
  "language_info": {
   "codemirror_mode": {
    "name": "ipython",
    "version": 3
   },
   "file_extension": ".py",
   "mimetype": "text/x-python",
   "name": "python",
   "nbconvert_exporter": "python",
   "pygments_lexer": "ipython3",
   "version": "3.12.5"
  }
 },
 "nbformat": 4,
 "nbformat_minor": 2
}
